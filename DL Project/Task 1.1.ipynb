{
 "cells": [
  {
   "cell_type": "code",
   "execution_count": 1,
   "metadata": {},
   "outputs": [
    {
     "data": {
      "text/plain": [
       "'Tesla M60'"
      ]
     },
     "execution_count": 1,
     "metadata": {},
     "output_type": "execute_result"
    }
   ],
   "source": [
    "import numpy as np\n",
    "import torch\n",
    "import torchvision\n",
    "import torch.nn as nn\n",
    "import torch.nn.functional as F\n",
    "from torchvision import transforms\n",
    "from torch.utils.data.sampler import SubsetRandomSampler\n",
    "from torch.utils.data.sampler import SequentialSampler\n",
    "import skimage\n",
    "from multiprocessing import Pool\n",
    "from progressbar import progressbar as pb\n",
    "import matplotlib.pyplot as plt\n",
    "from IPython.display import clear_output\n",
    "from matplotlib.backends.backend_pdf import PdfPages\n",
    "\n",
    "torch.cuda.get_device_name(0)"
   ]
  },
  {
   "cell_type": "code",
   "execution_count": 2,
   "metadata": {},
   "outputs": [
    {
     "data": {
      "application/javascript": [
       "$('.nbp-app-bar').toggle()\n"
      ],
      "text/plain": [
       "<IPython.core.display.Javascript object>"
      ]
     },
     "metadata": {},
     "output_type": "display_data"
    }
   ],
   "source": [
    "%%javascript\n",
    "$('.nbp-app-bar').toggle()"
   ]
  },
  {
   "cell_type": "code",
   "execution_count": 3,
   "metadata": {},
   "outputs": [],
   "source": [
    "preprocess = transforms.Compose([\n",
    "    transforms.Resize((224, 224)),\n",
    "    transforms.ToTensor(),\n",
    "])"
   ]
  },
  {
   "cell_type": "code",
   "execution_count": 4,
   "metadata": {},
   "outputs": [],
   "source": [
    "train_inds = list(np.random.choice(np.arange(50000), 5000))\n",
    "test_inds = list(np.random.choice(np.arange(10000), 1000))"
   ]
  },
  {
   "cell_type": "code",
   "execution_count": 5,
   "metadata": {},
   "outputs": [
    {
     "name": "stdout",
     "output_type": "stream",
     "text": [
      "Files already downloaded and verified\n",
      "Files already downloaded and verified\n"
     ]
    }
   ],
   "source": [
    "trainset = torchvision.datasets.CIFAR10(root='./data', train=True,\n",
    "                                        download=True, transform=preprocess)\n",
    "trainloader = torch.utils.data.DataLoader(trainset, batch_size=24, \n",
    "                                          num_workers=0, sampler=SequentialSampler(train_inds))\n",
    "\n",
    "testset = torchvision.datasets.CIFAR10(root='./data', train=False,\n",
    "                                       download=True, transform=preprocess)\n",
    "testloader = torch.utils.data.DataLoader(testset, batch_size=24,\n",
    "                                         num_workers=0, sampler=SequentialSampler(test_inds))"
   ]
  },
  {
   "cell_type": "code",
   "execution_count": 19,
   "metadata": {},
   "outputs": [
    {
     "data": {
      "image/png": "[encoded data removed]",
      "text/plain": [
       "<Figure size 1080x576 with 1 Axes>"
      ]
     },
     "metadata": {
      "needs_background": "light"
     },
     "output_type": "display_data"
    }
   ],
   "source": [
    "labels = np.array(trainloader.dataset.train_labels)[train_inds]\n",
    "\n",
    "f = plt.figure(figsize=(15,8))\n",
    "plt.hist(labels, bins=10)\n",
    "pp = PdfPages('first_distrib_train.pdf')\n",
    "pp.savefig(f)\n",
    "pp.close()\n",
    "f.savefig('first_distrib_train.png')\n",
    "plt.show()"
   ]
  },
  {
   "cell_type": "code",
   "execution_count": 17,
   "metadata": {},
   "outputs": [
    {
     "data": {
      "image/png": "[encoded data removed]",
      "text/plain": [
       "<Figure size 1080x576 with 1 Axes>"
      ]
     },
     "metadata": {
      "needs_background": "light"
     },
     "output_type": "display_data"
    }
   ],
   "source": [
    "labels = np.array(testloader.dataset.test_labels)[test_inds]\n",
    "f = plt.figure(figsize=(15,8))\n",
    "plt.hist(labels, bins=10)\n",
    "pp = PdfPages('first_distrib_test.pdf')\n",
    "pp.savefig(f)\n",
    "pp.close()\n",
    "f.savefig('first_distrib_test.png')\n",
    "plt.show()"
   ]
  },
  {
   "cell_type": "code",
   "execution_count": null,
   "metadata": {},
   "outputs": [],
   "source": [
    "class VGG2(nn.Module):\n",
    "    def __init__(self, batchnorm=False):\n",
    "        super(VGG2, self).__init__()\n",
    "        self.batchnorm = batchnorm\n",
    "        \n",
    "        self.pool = nn.MaxPool2d(2, 2)\n",
    "\n",
    "        self.conv1_1 = nn.Conv2d(3, 64, 3, 1)\n",
    "\n",
    "        self.conv2_1 = nn.Conv2d(64, 128, 3, 1)\n",
    "\n",
    "        self.conv3_1 = nn.Conv2d(128, 256, 3, 1)\n",
    "        self.conv3_2 = nn.Conv2d(256, 256, 3, 1)\n",
    "\n",
    "        self.conv4_1 = nn.Conv2d(256, 512, 3, 1)\n",
    "        self.conv4_2 = nn.Conv2d(512, 512, 3, 1)\n",
    "\n",
    "        self.conv5_1 = nn.Conv2d(512, 512, 3, 1)\n",
    "        self.conv5_2 = nn.Conv2d(512, 512, 3, 1)\n",
    "\n",
    "        self.fc1 = nn.Linear(4608, 4096)\n",
    "        self.fc2 = nn.Linear(4096, 4096)\n",
    "        self.out = nn.Linear(4096, 10)\n",
    "\n",
    "        if self.batchnorm:\n",
    "            self.bn1 = nn.BatchNorm2d(64)\n",
    "            self.bn2 = nn.BatchNorm2d(128)\n",
    "            self.bn3 = nn.BatchNorm2d(256)\n",
    "            self.bn4 = nn.BatchNorm2d(512)\n",
    "            self.bn5 = nn.BatchNorm1d(4096)\n",
    "            \n",
    "    def forward(self, x):\n",
    "        if not self.batchnorm:\n",
    "            x = F.relu(self.conv1_1(x))\n",
    "            x = self.pool(x)\n",
    "\n",
    "            x = F.relu(self.conv2_1(x))\n",
    "            x = self.pool(x)\n",
    "\n",
    "            x = F.relu(self.conv3_1(x))\n",
    "            x = F.relu(self.conv3_2(x))\n",
    "            x = self.pool(x)\n",
    "\n",
    "            x = F.relu(self.conv4_1(x))\n",
    "            x = F.relu(self.conv4_2(x))\n",
    "            x = self.pool(x)\n",
    "\n",
    "            x = F.relu(self.conv5_1(x))\n",
    "            x = F.relu(self.conv5_2(x))\n",
    "            x = self.pool(x)\n",
    "            x = x.view(x.shape[0], -1)\n",
    "\n",
    "            x = F.relu(self.fc1(x))\n",
    "            x = F.relu(self.fc2(x))\n",
    "            x = self.out(x)\n",
    "            #x = nn.Softmax(x)\n",
    "        else:\n",
    "            x = F.relu(self.bn1(self.conv1_1(x)))\n",
    "            x = self.pool(x)\n",
    "\n",
    "            x = F.relu(self.bn2(self.conv2_1(x)))\n",
    "            x = self.pool(x)\n",
    "\n",
    "            x = F.relu(self.bn3(self.conv3_1(x)))\n",
    "            x = F.relu(self.bn3(self.conv3_2(x)))\n",
    "            x = self.pool(x)\n",
    "\n",
    "            x = F.relu(self.bn4(self.conv4_1(x)))\n",
    "            x = F.relu(self.bn4(self.conv4_2(x)))\n",
    "            x = self.pool(x)\n",
    "\n",
    "            x = F.relu(self.bn4(self.conv5_1(x)))\n",
    "            x = F.relu(self.bn4(self.conv5_2(x)))\n",
    "            x = self.pool(x)\n",
    "            x = x.view(x.shape[0], -1)\n",
    "\n",
    "            x = F.relu(self.bn5(self.fc1(x)))\n",
    "            x = F.relu(self.bn5(self.fc2(x)))\n",
    "            x = self.out(x)\n",
    "        \n",
    "        return x"
   ]
  },
  {
   "cell_type": "code",
   "execution_count": null,
   "metadata": {},
   "outputs": [],
   "source": [
    "def train(model, train_loader, optimizer):\n",
    "    train_acc = []\n",
    "    model.train()\n",
    "    for i, batch in enumerate(pb(train_loader)):\n",
    "        X_batch, y_batch = batch\n",
    "        X_batch = X_batch.type(torch.cuda.FloatTensor)\n",
    "        y_batch = y_batch.type(torch.cuda.LongTensor)\n",
    "\n",
    "        optimizer.zero_grad()\n",
    "\n",
    "        y_pred = model(X_batch)\n",
    "        loss = loss_fn(y_pred, y_batch)\n",
    "        \n",
    "        max_ind = y_pred.max(1, keepdim=True)[1]\n",
    "        target_matches = torch.eq(max_ind, y_batch.data.view(len(y_batch), 1))\n",
    "        accuracy = torch.sum(target_matches).cpu().numpy() / len(y_batch)\n",
    "        \n",
    "        train_acc.append(accuracy)\n",
    "        \n",
    "        loss.backward()\n",
    "        optimizer.step()\n",
    "        \n",
    "    return np.mean(train_acc) * 100"
   ]
  },
  {
   "cell_type": "code",
   "execution_count": null,
   "metadata": {},
   "outputs": [],
   "source": [
    "def validate(model, val_loader):\n",
    "    model.eval()\n",
    "    val_acc = []\n",
    "    for i, batch in enumerate(pb(val_loader)):\n",
    "        X_batch, y_batch = batch\n",
    "        X_batch = X_batch.type(torch.cuda.FloatTensor)\n",
    "        y_batch = y_batch.type(torch.cuda.LongTensor)\n",
    "        \n",
    "        y_pred = model(X_batch)\n",
    "        \n",
    "        loss = loss_fn(y_pred, y_batch)\n",
    "        \n",
    "        max_ind = y_pred.max(1, keepdim=True)[1]\n",
    "        target_matches = torch.eq(max_ind, y_batch.data.view(len(y_batch), 1))\n",
    "        accuracy = torch.sum(target_matches).cpu().numpy() / len(y_batch)\n",
    "\n",
    "        val_acc.append(accuracy)        \n",
    "\n",
    "    \n",
    "    return np.mean(val_acc) * 100"
   ]
  },
  {
   "cell_type": "code",
   "execution_count": null,
   "metadata": {
    "scrolled": false
   },
   "outputs": [
    {
     "name": "stdout",
     "output_type": "stream",
     "text": [
      "Epoch: 25, BN=False, LR=0.1\n",
      "Train accuracy: 22.627591706539075\n",
      "Test accuracy: 25.595238095238095\n"
     ]
    },
    {
     "data": {
      "image/png": "[encoded data removed]",
      "text/plain": [
       "<Figure size 1440x576 with 2 Axes>"
      ]
     },
     "metadata": {
      "needs_background": "light"
     },
     "output_type": "display_data"
    },
    {
     "name": "stderr",
     "output_type": "stream",
     "text": [
      " 70% (148 of 209) |###############       | Elapsed Time: 0:00:43 ETA:   0:00:17"
     ]
    }
   ],
   "source": [
    "train_h = {(False, 0.1): [], (False, 0.5): [], (True, 0.1): [], (True, 0.5): []}\n",
    "test_h = {(False, 0.1): [], (False, 0.5): [], (True, 0.1): [], (True, 0.5): []}\n",
    "\n",
    "batch_flag, l_rates = [False, True], [0.1, 0.5]\n",
    "\n",
    "for flag in batch_flag:\n",
    "    for rate in l_rates:\n",
    "        net = VGG2(flag)\n",
    "        net.cuda()\n",
    "        loss_fn = nn.CrossEntropyLoss()\n",
    "        optimizer = torch.optim.SGD(net.parameters(), lr=rate)\n",
    "        \n",
    "\n",
    "        for epoch in pb(range(101)):\n",
    "            cur_train = train(net, trainloader, optimizer)\n",
    "            cur_test = validate(net, testloader)\n",
    "            train_h[(flag, rate)].append(cur_train)\n",
    "            test_h[(flag, rate)].append(cur_test)\n",
    "            clear_output()\n",
    "            print('Epoch: {}, BN={}, LR={}'.format(epoch+1, flag, rate))\n",
    "            print(\"Train accuracy: {}\".format(cur_train))\n",
    "            print(\"Test accuracy: {}\".format(cur_test))\n",
    "\n",
    "            f, axarr = plt.subplots(1,2, figsize=(20,8))\n",
    "\n",
    "            axarr[0].plot(train_h[(False, 0.1)], color='tomato', label='BN={}, LR={}'.format(False, 0.1))\n",
    "            axarr[0].plot(train_h[(True, 0.1)], color='blue', label='BN={}, LR={}'.format(True, 0.1))\n",
    "            axarr[0].plot(train_h[(False, 0.5)], color='tomato', linestyle='--', label='BN={}, LR={}'.format(False, 0.5))\n",
    "            axarr[0].plot(train_h[(True, 0.5)], color='blue', linestyle='--', label='BN={}, LR={}'.format(True, 0.5))\n",
    "            axarr[0].grid()\n",
    "            axarr[0].legend(fontsize=12)\n",
    "            axarr[0].set_ylabel('Training Accuracy', size=15)\n",
    "            axarr[0].set_xlabel('Steps', size=15)\n",
    "            axarr[0].set_yticks(np.arange(0,101,10))\n",
    "            axarr[0].set_yticklabels(np.arange(0,101,10))\n",
    "            axarr[0].set_xticks(np.arange(0,110,10))\n",
    "            axarr[0].set_xticklabels(np.arange(0,110,10))\n",
    "\n",
    "            axarr[1].plot(test_h[(False, 0.1)], color='tomato', label='BN={}, LR={}'.format(False, 0.1))\n",
    "            axarr[1].plot(test_h[(True, 0.1)], color='blue', label='BN={}, LR={}'.format(True, 0.1))\n",
    "            axarr[1].plot(test_h[(False, 0.5)], color='tomato', linestyle='--', label='BN={}, LR={}'.format(False, 0.5))\n",
    "            axarr[1].plot(test_h[(True, 0.5)], color='blue', linestyle='--', label='BN={}, LR={}'.format(True, 0.5))\n",
    "            axarr[1].grid()\n",
    "            axarr[1].legend(fontsize=12)\n",
    "            axarr[1].set_ylabel('Test Accuracy', size=15)\n",
    "            axarr[1].set_xlabel('Steps', size=15)\n",
    "            axarr[1].set_yticks(np.arange(0,101,10))\n",
    "            axarr[1].set_yticklabels(np.arange(0,101,10))\n",
    "            axarr[1].set_xticks(np.arange(0, 110,10))\n",
    "            axarr[1].set_xticklabels(np.arange(0,110,10))\n",
    "            pp = PdfPages('first_2.pdf')\n",
    "            pp.savefig(f)\n",
    "            pp.close()\n",
    "            f.savefig('first_2.png')\n",
    "            plt.show()"
   ]
  }
 ],
 "metadata": {
  "kernelspec": {
   "display_name": "Python 3.6 - AzureML",
   "language": "python",
   "name": "python3-azureml"
  },
  "language_info": {
   "codemirror_mode": {
    "name": "ipython",
    "version": 3
   },
   "file_extension": ".py",
   "mimetype": "text/x-python",
   "name": "python",
   "nbconvert_exporter": "python",
   "pygments_lexer": "ipython3",
   "version": "3.6.7"
  }
 },
 "nbformat": 4,
 "nbformat_minor": 2
}
