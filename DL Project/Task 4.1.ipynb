{
 "cells": [
  {
   "cell_type": "code",
   "execution_count": 1,
   "metadata": {},
   "outputs": [
    {
     "data": {
      "text/plain": [
       "'Tesla M60'"
      ]
     },
     "execution_count": 1,
     "metadata": {},
     "output_type": "execute_result"
    }
   ],
   "source": [
    "import numpy as np\n",
    "import torch\n",
    "import torchvision\n",
    "import torch.nn as nn\n",
    "import torch.nn.functional as F\n",
    "from torchvision import transforms\n",
    "from torch.utils.data.sampler import SubsetRandomSampler\n",
    "from torch.utils.data.sampler import SequentialSampler\n",
    "import skimage\n",
    "from multiprocessing import Pool\n",
    "from progressbar import progressbar as pb\n",
    "import matplotlib.pyplot as plt\n",
    "from IPython.display import clear_output\n",
    "from matplotlib.backends.backend_pdf import PdfPages\n",
    "\n",
    "torch.cuda.get_device_name(0)"
   ]
  },
  {
   "cell_type": "markdown",
   "metadata": {},
   "source": [
    "%%javascript\n",
    "$('.nbp-app-bar').toggle()"
   ]
  },
  {
   "cell_type": "code",
   "execution_count": 2,
   "metadata": {},
   "outputs": [],
   "source": [
    "preprocess = transforms.Compose([\n",
    "    transforms.Resize((224, 224)),\n",
    "    transforms.ToTensor(),\n",
    "])"
   ]
  },
  {
   "cell_type": "code",
   "execution_count": 3,
   "metadata": {},
   "outputs": [],
   "source": [
    "train_inds = list(np.random.choice(np.arange(50000), 10000))\n",
    "test_inds = list(np.random.choice(np.arange(10000), 100))"
   ]
  },
  {
   "cell_type": "code",
   "execution_count": 4,
   "metadata": {},
   "outputs": [
    {
     "name": "stdout",
     "output_type": "stream",
     "text": [
      "Files already downloaded and verified\n",
      "Files already downloaded and verified\n"
     ]
    }
   ],
   "source": [
    "trainset = torchvision.datasets.CIFAR10(root='./data', train=True,\n",
    "                                        download=True, transform=preprocess)\n",
    "trainloader = torch.utils.data.DataLoader(trainset, batch_size=12, \n",
    "                                          num_workers=0, sampler=SequentialSampler(train_inds))\n",
    "\n",
    "testset = torchvision.datasets.CIFAR10(root='./data', train=False,\n",
    "                                       download=True, transform=preprocess)\n",
    "testloader = torch.utils.data.DataLoader(testset, batch_size=12,\n",
    "                                         num_workers=0, sampler=SequentialSampler(test_inds))"
   ]
  },
  {
   "cell_type": "code",
   "execution_count": 5,
   "metadata": {},
   "outputs": [],
   "source": [
    "class VGG2(nn.Module):\n",
    "    def __init__(self, batchnorm=False):\n",
    "        super(VGG2, self).__init__()\n",
    "        self.batchnorm = batchnorm\n",
    "        \n",
    "        self.pool = nn.MaxPool2d(2, 2)\n",
    "\n",
    "        self.conv1_1 = nn.Conv2d(3, 64, 3, 1)\n",
    "\n",
    "        self.conv2_1 = nn.Conv2d(64, 128, 3, 1)\n",
    "\n",
    "        self.conv3_1 = nn.Conv2d(128, 256, 3, 1)\n",
    "        self.conv3_2 = nn.Conv2d(256, 256, 3, 1)\n",
    "\n",
    "        self.conv4_1 = nn.Conv2d(256, 512, 3, 1)\n",
    "        self.conv4_2 = nn.Conv2d(512, 512, 3, 1)\n",
    "\n",
    "        self.conv5_1 = nn.Conv2d(512, 512, 3, 1)\n",
    "        self.conv5_2 = nn.Conv2d(512, 512, 3, 1)\n",
    "\n",
    "        self.fc1 = nn.Linear(4608, 4096)\n",
    "        self.fc2 = nn.Linear(4096, 4096)\n",
    "        self.out = nn.Linear(4096, 10)\n",
    "\n",
    "        if self.batchnorm:\n",
    "            self.bn1 = nn.BatchNorm2d(64)\n",
    "            self.bn2 = nn.BatchNorm2d(128)\n",
    "            self.bn3 = nn.BatchNorm2d(256)\n",
    "            self.bn4 = nn.BatchNorm2d(512)\n",
    "            self.bn5 = nn.BatchNorm1d(4096)\n",
    "            \n",
    "    def forward(self, x):\n",
    "        if not self.batchnorm:\n",
    "            x = F.relu(self.conv1_1(x))\n",
    "            x = self.pool(x)\n",
    "\n",
    "            x = F.relu(self.conv2_1(x))\n",
    "            x = self.pool(x)\n",
    "\n",
    "            x = F.relu(self.conv3_1(x))\n",
    "            x = F.relu(self.conv3_2(x))\n",
    "            x = self.pool(x)\n",
    "\n",
    "            x = F.relu(self.conv4_1(x))\n",
    "            x = F.relu(self.conv4_2(x))\n",
    "            x = self.pool(x)\n",
    "\n",
    "            x = F.relu(self.conv5_1(x))\n",
    "            x = F.relu(self.conv5_2(x))\n",
    "            x = self.pool(x)\n",
    "            x = x.view(x.shape[0], -1)\n",
    "\n",
    "            x = F.relu(self.fc1(x))\n",
    "            x = F.relu(self.fc2(x))\n",
    "            x = self.out(x)\n",
    "            #x = nn.Softmax(x)\n",
    "        else:\n",
    "            x = F.relu(self.bn1(self.conv1_1(x)))\n",
    "            x = self.pool(x)\n",
    "\n",
    "            x = F.relu(self.bn2(self.conv2_1(x)))\n",
    "            x = self.pool(x)\n",
    "\n",
    "            x = F.relu(self.bn3(self.conv3_1(x)))\n",
    "            x = F.relu(self.bn3(self.conv3_2(x)))\n",
    "            x = self.pool(x)\n",
    "\n",
    "            x = F.relu(self.bn4(self.conv4_1(x)))\n",
    "            x = F.relu(self.bn4(self.conv4_2(x)))\n",
    "            x = self.pool(x)\n",
    "\n",
    "            x = F.relu(self.bn4(self.conv5_1(x)))\n",
    "            x = F.relu(self.bn4(self.conv5_2(x)))\n",
    "            x = self.pool(x)\n",
    "            x = x.view(x.shape[0], -1)\n",
    "\n",
    "            x = F.relu(self.bn5(self.fc1(x)))\n",
    "            x = F.relu(self.bn5(self.fc2(x)))\n",
    "            x = self.out(x)\n",
    "        \n",
    "        return x"
   ]
  },
  {
   "cell_type": "code",
   "execution_count": 6,
   "metadata": {},
   "outputs": [],
   "source": [
    "def train(model, train_loader, optimizer):\n",
    "    train_loss = []\n",
    "    model.train()\n",
    "    for i, batch in enumerate(pb(train_loader)):\n",
    "        X_batch, y_batch = batch\n",
    "        X_batch = X_batch.type(torch.cuda.FloatTensor)\n",
    "        y_batch = y_batch.type(torch.cuda.LongTensor)\n",
    "\n",
    "        optimizer.zero_grad()\n",
    "\n",
    "        y_pred = model(X_batch)\n",
    "        loss = loss_fn(y_pred, y_batch)\n",
    "        \n",
    "        max_ind = y_pred.max(1, keepdim=True)[1]\n",
    "        target_matches = torch.eq(max_ind, y_batch.data.view(len(y_batch), 1))\n",
    "        \n",
    "        train_loss.append(loss.item())\n",
    "        \n",
    "        loss.backward()\n",
    "        optimizer.step()\n",
    "        \n",
    "    return np.mean(train_loss)"
   ]
  },
  {
   "cell_type": "code",
   "execution_count": null,
   "metadata": {
    "scrolled": false
   },
   "outputs": [
    {
     "name": "stdout",
     "output_type": "stream",
     "text": [
      "Epoch: 1, BN=False\n"
     ]
    },
    {
     "data": {
      "image/png": "[encoded data removed]",
      "text/plain": [
       "<Figure size 1080x576 with 1 Axes>"
      ]
     },
     "metadata": {
      "needs_background": "light"
     },
     "output_type": "display_data"
    },
    {
     "name": "stderr",
     "output_type": "stream",
     "text": [
      " 43% (364 of 834) |#########             | Elapsed Time: 0:00:54 ETA:   0:01:10"
     ]
    }
   ],
   "source": [
    "train_h = {False: [], True: []}\n",
    "\n",
    "lr_vals = np.random.uniform(0.5,4, 51) * 0.1\n",
    "\n",
    "batch_flag = [False, True]\n",
    "\n",
    "for flag in batch_flag:\n",
    "    net = VGG2(flag)\n",
    "    net.cuda()\n",
    "    loss_fn = nn.CrossEntropyLoss()\n",
    "    optimizer = torch.optim.SGD(net.parameters(), lr=0.1)\n",
    "\n",
    "    for epoch in pb(range(51)):\n",
    "        for param_group in optimizer.param_groups:\n",
    "            param_group['lr'] = lr_vals[epoch]\n",
    "        cur_train = train(net, trainloader, optimizer)\n",
    "        train_h[flag].append(cur_train)\n",
    "        clear_output()\n",
    "        print('Epoch: {}, BN={}'.format(epoch+1, flag))\n",
    "\n",
    "        f = plt.figure(figsize=(15,8))\n",
    "\n",
    "        plt.plot(train_h[False], color='tomato', label='BN={}'.format(False))\n",
    "        plt.plot(train_h[True], color='blue', label='BN={}'.format(True))\n",
    "        plt.grid()\n",
    "        plt.legend(fontsize=12)\n",
    "        ''' if flag == False:\n",
    "            plt.fill_between(np.arange(epoch+1),np.array(train_h[False])-0.3, np.array(train_h[False])+0.3,\\\n",
    "                             color='tomato', alpha=0.2, label='BN={}'.format(False))\n",
    "        else:\n",
    "            plt.fill_between(np.arange(epoch+1),np.array(train_h[True])-0.3, np.array(train_h[True])+0.3,\\\n",
    "                         color='blue', alpha=0.2, label='BN={}'.format(True))'''\n",
    "        plt.ylabel('Loss Landscape', size=15)\n",
    "        plt.xlabel('Steps', size=15)\n",
    "\n",
    "        pp = PdfPages('Exp41_3.pdf')\n",
    "        pp.savefig(f)\n",
    "        pp.close()\n",
    "        f.savefig('Exp41_3.png')\n",
    "        plt.show()"
   ]
  },
  {
   "cell_type": "code",
   "execution_count": null,
   "metadata": {},
   "outputs": [],
   "source": []
  }
 ],
 "metadata": {
  "kernelspec": {
   "display_name": "Python 3.6 - AzureML",
   "language": "python",
   "name": "python3-azureml"
  },
  "language_info": {
   "codemirror_mode": {
    "name": "ipython",
    "version": 3
   },
   "file_extension": ".py",
   "mimetype": "text/x-python",
   "name": "python",
   "nbconvert_exporter": "python",
   "pygments_lexer": "ipython3",
   "version": "3.6.7"
  }
 },
 "nbformat": 4,
 "nbformat_minor": 2
}
